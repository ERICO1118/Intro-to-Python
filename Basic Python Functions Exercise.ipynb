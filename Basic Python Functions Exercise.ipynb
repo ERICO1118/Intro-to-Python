{
 "cells": [
  {
   "cell_type": "markdown",
   "id": "e3c1f335",
   "metadata": {},
   "source": [
    "Exercise: Basic Python functions\n",
    "================================\n",
    "\n"
   ]
  },
  {
   "cell_type": "markdown",
   "id": "4552cc4c",
   "metadata": {},
   "source": [
    "In this exercise, we will explore the fundamental concepts of Python functions and how they can be used in practice. We will be led through hands-on coding exercises that will emphasise basic concepts related to building simple functions and utilising built-in functions.\n",
    "\n"
   ]
  },
  {
   "cell_type": "markdown",
   "id": "f0efe2ec",
   "metadata": {},
   "source": [
    "Learning objectives\n",
    "-------------------\n",
    "\n"
   ]
  },
  {
   "cell_type": "markdown",
   "id": "c7f8d24b",
   "metadata": {},
   "source": [
    "By the end of this exercise, you should be able to:\n",
    "\n"
   ]
  },
  {
   "cell_type": "markdown",
   "id": "57bbede4",
   "metadata": {},
   "source": [
    "* Understand how to use basic built-in functions.\n",
    "* Create user-defined functions based on specific needs.\n"
   ]
  },
  {
   "cell_type": "markdown",
   "id": "56262117",
   "metadata": {},
   "source": [
    "Exercises\n",
    "---------\n",
    "\n"
   ]
  },
  {
   "cell_type": "markdown",
   "id": "754b26ab",
   "metadata": {},
   "source": [
    "### Exercise 1\n",
    "\n"
   ]
  },
  {
   "cell_type": "markdown",
   "id": "3348f494",
   "metadata": {},
   "source": [
    "Given a list of deforested land in hectares over five years, calculate the total carbon emission over the years using built-in functions.\n",
    "\n"
   ]
  },
  {
   "cell_type": "markdown",
   "id": "8011ae87",
   "metadata": {},
   "source": [
    "Total carbon emissions are calculated by adding the hectares of deforested land and multiplying the total by a given carbon emissions factor of 40.\n",
    "\n"
   ]
  },
  {
   "cell_type": "markdown",
   "id": "9f53643a",
   "metadata": {},
   "source": [
    "Hint:\n",
    "\n"
   ]
  },
  {
   "cell_type": "markdown",
   "id": "3e74e42a",
   "metadata": {},
   "source": [
    "* Create a variable called `total_deforested_land`, the result of adding the hectares of the deforested land using the `sum` function.\n",
    "* Create a variable called `total_carbon_emission`, the result of multiplying the `total_deforested_land` variable with the carbon emissions factor.\n"
   ]
  },
  {
   "cell_type": "code",
   "execution_count": 2,
   "id": "65514f62",
   "metadata": {},
   "outputs": [],
   "source": [
    "# Deforested land for each year\n",
    "deforested_land = [10, 15, 8, 12, 20]\n",
    "\n",
    "# Carbon emission factor (tons of CO2 per hectare)\n",
    "carbon_emission_factor = 40\n",
    "\n",
    "total_deforested_land = sum(deforested_land)\n",
    "total_carbon_emission = sum(deforested_land) * 40"
   ]
  },
  {
   "cell_type": "markdown",
   "id": "40ec425b",
   "metadata": {},
   "source": [
    "Print the `total_deforested_land` and `total_carbon_emission` variables.\n",
    "\n"
   ]
  },
  {
   "cell_type": "code",
   "execution_count": 3,
   "id": "e7d248a2",
   "metadata": {},
   "outputs": [
    {
     "name": "stdout",
     "output_type": "stream",
     "text": [
      "65\n",
      "2600\n"
     ]
    }
   ],
   "source": [
    "print(total_deforested_land)\n",
    "print(total_carbon_emission)"
   ]
  },
  {
   "cell_type": "markdown",
   "id": "30b880c3",
   "metadata": {},
   "source": [
    "### Exercise 2\n",
    "\n"
   ]
  },
  {
   "cell_type": "markdown",
   "id": "df00144d",
   "metadata": {},
   "source": [
    "Create a function named `acres_to_hectares` that accepts a parameter of the area of a forest in acres and returns the corresponding area in hectares by multiplying the acres by a conversion rate of 0.404686.\n",
    "\n"
   ]
  },
  {
   "cell_type": "markdown",
   "id": "7d364656",
   "metadata": {},
   "source": [
    "Remember to include the doc strings of the function.\n",
    "\n"
   ]
  },
  {
   "cell_type": "code",
   "execution_count": 7,
   "id": "962322d7",
   "metadata": {},
   "outputs": [],
   "source": [
    "def acres_to_hectares(acres):\n",
    "    \"\"\"\n",
    "    Converts an area from acres to hectares.\n",
    "    \n",
    "    Parameters:\n",
    "    acres (float): The area in acres to be converted.\n",
    "    \n",
    "    Returns:\n",
    "    float: The corresponding area in hectares.\n",
    "    \"\"\"\n",
    "    conversion_rate = 0.404686\n",
    "    hectares = acres * conversion_rate\n",
    "    return hectares"
   ]
  },
  {
   "cell_type": "markdown",
   "id": "ef5e9337",
   "metadata": {},
   "source": [
    "Use the function above to convert a forest area of 50 acres to hectares.\n",
    "\n"
   ]
  },
  {
   "cell_type": "code",
   "execution_count": 8,
   "id": "02e71361",
   "metadata": {},
   "outputs": [
    {
     "name": "stdout",
     "output_type": "stream",
     "text": [
      "20.2343\n"
     ]
    }
   ],
   "source": [
    "print(acres_to_hectares(50))"
   ]
  },
  {
   "cell_type": "markdown",
   "id": "817f68bb",
   "metadata": {},
   "source": [
    "### Exercise 3\n",
    "\n"
   ]
  },
  {
   "cell_type": "markdown",
   "id": "d88999ea",
   "metadata": {},
   "source": [
    "Using the data representing the deforested land in hectares over the years, calculate and print the average deforested land using the `sum` and `len` built-in functions.\n",
    "\n"
   ]
  },
  {
   "cell_type": "markdown",
   "id": "a0f92491",
   "metadata": {},
   "source": [
    "Hint:\n",
    "\n"
   ]
  },
  {
   "cell_type": "markdown",
   "id": "439ddc40",
   "metadata": {},
   "source": [
    "* Create a variable called `average_deforested_land` by adding the hectares of the deforested land together using the `sum` function and then dividing it by the number of values in the list, which can be derived using the `len` function.\n"
   ]
  },
  {
   "cell_type": "code",
   "execution_count": 10,
   "id": "5e6233b3",
   "metadata": {},
   "outputs": [],
   "source": [
    "# Deforested land for each year\n",
    "deforested_land = [10, 15, 8, 12, 20]\n",
    "\n",
    "total_deforested_land = sum(deforested_land)\n",
    "\n",
    "average_deforested_land = total_deforested_land /len(deforested_land)\n"
   ]
  },
  {
   "cell_type": "markdown",
   "id": "2e920a5f",
   "metadata": {},
   "source": [
    "Print the `average_deforested_land` variable.\n",
    "\n"
   ]
  },
  {
   "cell_type": "code",
   "execution_count": 11,
   "id": "37d03ddb",
   "metadata": {},
   "outputs": [
    {
     "name": "stdout",
     "output_type": "stream",
     "text": [
      "13.0\n"
     ]
    }
   ],
   "source": [
    "print(average_deforested_land)"
   ]
  }
 ],
 "metadata": {
  "authors": [
   "NDAYISENGA Theoneste"
  ],
  "kernelspec": {
   "display_name": "Python 3 (ipykernel)",
   "language": "python",
   "name": "python3"
  },
  "language_info": {
   "codemirror_mode": {
    "name": "ipython",
    "version": 3
   },
   "file_extension": ".py",
   "mimetype": "text/x-python",
   "name": "python",
   "nbconvert_exporter": "python",
   "pygments_lexer": "ipython3",
   "version": "3.12.7"
  },
  "widgets": {
   "application/vnd.jupyter.widget-state+json": {
    "state": {},
    "version_major": 2,
    "version_minor": 0
   }
  }
 },
 "nbformat": 4,
 "nbformat_minor": 5
}
